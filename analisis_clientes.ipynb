{
 "cells": [
  {
   "cell_type": "markdown",
   "id": "0c35bcf6",
   "metadata": {},
   "source": [
    "----------------------------------\n",
    "# INTRODUCCION: 🛒 Análisis de clientes y comportamiento de compra - Store 1\n",
    "\n",
    "Este análisis tiene como objetivo explorar los datos de compra de clientes de una tienda para identificar patrones útiles en la toma de decisiones comerciales. En particular, se analiza el total de gasto por cliente, las categorías más rentables y la relación entre edad y comportamiento de compra."
   ]
  },
  {
   "cell_type": "markdown",
   "id": "221e5930",
   "metadata": {},
   "source": [
    "## Carga y limpieza de datos"
   ]
  },
  {
   "cell_type": "markdown",
   "id": "ef51363a",
   "metadata": {},
   "source": [
    "### 📦 Datos originales\n",
    "\n",
    "La información está organizada como una lista de listas. Cada usuario tiene:\n",
    "- ID\n",
    "- Nombre\n",
    "- Edad\n",
    "- Categorías favoritas\n",
    "- Montos gastados por categoría\n"
   ]
  },
  {
   "cell_type": "code",
   "execution_count": 1,
   "id": "abef4e07",
   "metadata": {},
   "outputs": [],
   "source": [
    "users = [\n",
    "    ['32415', ' mike_reed ', 32.0, ['ELECTRONICS', 'SPORT', 'BOOKS'], [894, 213, 173]],\n",
    "    ['31980', 'kate morgan', 24.0, ['CLOTHES', 'BOOKS'], [439, 390]],\n",
    "    ['32156', ' john doe ', 37.0, ['ELECTRONICS', 'HOME', 'FOOD'], [459, 120, 99]],\n",
    "    ['32761', 'SAMANTHA SMITH', 29.0, ['CLOTHES', 'ELECTRONICS', 'BEAUTY'], [299, 679, 85]],\n",
    "    ['32984', 'David White', 41.0, ['BOOKS', 'HOME', 'SPORT'], [234, 329, 243]],\n",
    "    ['33001', 'emily brown', 26.0, ['BEAUTY', 'HOME', 'FOOD'], [213, 659, 79]],\n",
    "    ['33767', ' Maria Garcia', 33.0, ['CLOTHES', 'FOOD', 'BEAUTY'], [499, 189, 63]],\n",
    "    ['33912', 'JOSE MARTINEZ', 22.0, ['SPORT', 'ELECTRONICS', 'HOME'], [259, 549, 109]],\n",
    "    ['34009', 'lisa wilson ', 35.0, ['HOME', 'BOOKS', 'CLOTHES'], [329, 189, 329]],\n",
    "    ['34278', 'James Lee', 28.0, ['BEAUTY', 'CLOTHES', 'ELECTRONICS'], [189, 299, 579]],\n",
    "]\n"
   ]
  },
  {
   "cell_type": "markdown",
   "id": "2f9eedbf",
   "metadata": {},
   "source": [
    "-----------------------------------\n",
    "### 🧼 Limpieza y validación de datos\n",
    "\n",
    "Creamos una función `clean_user()` para:\n",
    "- Limpiar y formatear el nombre\n",
    "- Convertir edad a entero\n",
    "- Validar que haya el mismo número de categorías y gastos\n",
    "- Calcular el gasto total por usuario\n"
   ]
  },
  {
   "cell_type": "code",
   "execution_count": 2,
   "id": "a70471d5",
   "metadata": {},
   "outputs": [],
   "source": [
    "\n",
    "def clean_user(user_info):\n",
    "    \"\"\"Limpia el nombre y la edad del usuario, y calcula el total gastado\"\"\"\n",
    "    user_id = user_info[0]\n",
    "    name = user_info[1].strip().replace('_', ' ').title().split() # Eliminar espacios innecesarios, reemplazar _ por espacio y formatear nombre\n",
    "    age = int(user_info[2]) # Convertir tipo de datos de edad en enteros\n",
    "    categories = [cat.lower() for cat in user_info[3]] # Convertir categorías a minúsculas\n",
    "    spendings = user_info[4]\n",
    "    \n",
    "    if len(categories) != len(spendings):\n",
    "        print(f\"[Aviso] Usuario {user_id} tiene datos inconsistentes.\")\n",
    "\n",
    "    total_spent = sum(spendings)\n",
    "    \n",
    "    return [user_id, name, age, categories, spendings, total_spent]"
   ]
  },
  {
   "cell_type": "markdown",
   "id": "b266ce66",
   "metadata": {},
   "source": [
    "------------------------\n",
    "### 🔁 Aplicación de limpieza a toda la base de usuarios\n",
    "\n",
    "Recorremos cada usuario y aplicamos la función de limpieza, generando una nueva lista `users_clean`.\n"
   ]
  },
  {
   "cell_type": "code",
   "execution_count": 3,
   "id": "15b12354",
   "metadata": {},
   "outputs": [],
   "source": [
    "users_clean = []\n",
    "\n",
    "for user in users:\n",
    "    cleaned = clean_user(user)\n",
    "    users_clean.append(cleaned)"
   ]
  },
  {
   "cell_type": "markdown",
   "id": "80d35a2b",
   "metadata": {},
   "source": [
    "-----------------------------\n",
    "### Mostrar resumen por usuario\n"
   ]
  },
  {
   "cell_type": "code",
   "execution_count": 4,
   "id": "5bd5e1b2",
   "metadata": {},
   "outputs": [
    {
     "name": "stdout",
     "output_type": "stream",
     "text": [
      "User 32415 is Mike who is 32 years old and spent $1280 in total.\n",
      "User 31980 is Kate who is 24 years old and spent $829 in total.\n",
      "User 32156 is John who is 37 years old and spent $678 in total.\n",
      "User 32761 is Samantha who is 29 years old and spent $1063 in total.\n",
      "User 32984 is David who is 41 years old and spent $806 in total.\n",
      "User 33001 is Emily who is 26 years old and spent $951 in total.\n",
      "User 33767 is Maria who is 33 years old and spent $751 in total.\n",
      "User 33912 is Jose who is 22 years old and spent $917 in total.\n",
      "User 34009 is Lisa who is 35 years old and spent $847 in total.\n",
      "User 34278 is James who is 28 years old and spent $1067 in total.\n"
     ]
    }
   ],
   "source": [
    "for user in users_clean:\n",
    "    user_id = user[0]\n",
    "    first_name = user[1][0]\n",
    "    age = user[2]\n",
    "    total = user[5]\n",
    "    print(f\"User {user_id} is {first_name} who is {age} years old and spent ${total} in total.\")"
   ]
  },
  {
   "cell_type": "markdown",
   "id": "1d1bc838",
   "metadata": {},
   "source": [
    "-----------------------------\n",
    "## 🧾 Conversión de la lista limpia a un DataFrame de pandas\n",
    "Ahora que tenemos todos los usuarios limpios y validados en la lista `users_clean`, los convertiremos en un `DataFrame` usando la biblioteca `pandas`. Esto facilitará el análisis, filtrado, visualización y exportación de los datos.\n"
   ]
  },
  {
   "cell_type": "code",
   "execution_count": 5,
   "id": "319ca7f5",
   "metadata": {},
   "outputs": [
    {
     "data": {
      "text/html": [
       "<div>\n",
       "<style scoped>\n",
       "    .dataframe tbody tr th:only-of-type {\n",
       "        vertical-align: middle;\n",
       "    }\n",
       "\n",
       "    .dataframe tbody tr th {\n",
       "        vertical-align: top;\n",
       "    }\n",
       "\n",
       "    .dataframe thead th {\n",
       "        text-align: right;\n",
       "    }\n",
       "</style>\n",
       "<table border=\"1\" class=\"dataframe\">\n",
       "  <thead>\n",
       "    <tr style=\"text-align: right;\">\n",
       "      <th></th>\n",
       "      <th>user_id</th>\n",
       "      <th>name</th>\n",
       "      <th>age</th>\n",
       "      <th>categories</th>\n",
       "      <th>spendings</th>\n",
       "      <th>total_spent</th>\n",
       "    </tr>\n",
       "  </thead>\n",
       "  <tbody>\n",
       "    <tr>\n",
       "      <th>0</th>\n",
       "      <td>32415</td>\n",
       "      <td>[Mike, Reed]</td>\n",
       "      <td>32</td>\n",
       "      <td>[electronics, sport, books]</td>\n",
       "      <td>[894, 213, 173]</td>\n",
       "      <td>1280</td>\n",
       "    </tr>\n",
       "    <tr>\n",
       "      <th>1</th>\n",
       "      <td>31980</td>\n",
       "      <td>[Kate, Morgan]</td>\n",
       "      <td>24</td>\n",
       "      <td>[clothes, books]</td>\n",
       "      <td>[439, 390]</td>\n",
       "      <td>829</td>\n",
       "    </tr>\n",
       "    <tr>\n",
       "      <th>2</th>\n",
       "      <td>32156</td>\n",
       "      <td>[John, Doe]</td>\n",
       "      <td>37</td>\n",
       "      <td>[electronics, home, food]</td>\n",
       "      <td>[459, 120, 99]</td>\n",
       "      <td>678</td>\n",
       "    </tr>\n",
       "    <tr>\n",
       "      <th>3</th>\n",
       "      <td>32761</td>\n",
       "      <td>[Samantha, Smith]</td>\n",
       "      <td>29</td>\n",
       "      <td>[clothes, electronics, beauty]</td>\n",
       "      <td>[299, 679, 85]</td>\n",
       "      <td>1063</td>\n",
       "    </tr>\n",
       "    <tr>\n",
       "      <th>4</th>\n",
       "      <td>32984</td>\n",
       "      <td>[David, White]</td>\n",
       "      <td>41</td>\n",
       "      <td>[books, home, sport]</td>\n",
       "      <td>[234, 329, 243]</td>\n",
       "      <td>806</td>\n",
       "    </tr>\n",
       "  </tbody>\n",
       "</table>\n",
       "</div>"
      ],
      "text/plain": [
       "  user_id               name  age                      categories  \\\n",
       "0   32415       [Mike, Reed]   32     [electronics, sport, books]   \n",
       "1   31980     [Kate, Morgan]   24                [clothes, books]   \n",
       "2   32156        [John, Doe]   37       [electronics, home, food]   \n",
       "3   32761  [Samantha, Smith]   29  [clothes, electronics, beauty]   \n",
       "4   32984     [David, White]   41            [books, home, sport]   \n",
       "\n",
       "         spendings  total_spent  \n",
       "0  [894, 213, 173]         1280  \n",
       "1       [439, 390]          829  \n",
       "2   [459, 120, 99]          678  \n",
       "3   [299, 679, 85]         1063  \n",
       "4  [234, 329, 243]          806  "
      ]
     },
     "execution_count": 5,
     "metadata": {},
     "output_type": "execute_result"
    }
   ],
   "source": [
    "import pandas as pd\n",
    "df_users = pd.DataFrame(users_clean, columns=[\n",
    "    'user_id', 'name', 'age', 'categories', 'spendings', 'total_spent'\n",
    "])\n",
    "df_users.head()"
   ]
  },
  {
   "cell_type": "markdown",
   "id": "8f93698b",
   "metadata": {},
   "source": [
    "-----------------------------------------------------\n",
    "## 🔍 Etapa: Análisis Exploratorio de Datos (EDA - Exploratory Data Analysis)\n",
    "\n",
    "En esta sección se exploran los datos de clientes limpios para entender patrones generales como edad, gasto total, y comportamiento por usuario. Este análisis ayuda a identificar oportunidades y detectar anomalías antes de avanzar a modelos o visualizaciones más avanzadas. \n",
    "\n"
   ]
  },
  {
   "cell_type": "code",
   "execution_count": 6,
   "id": "80aa281e",
   "metadata": {},
   "outputs": [
    {
     "data": {
      "text/html": [
       "<div>\n",
       "<style scoped>\n",
       "    .dataframe tbody tr th:only-of-type {\n",
       "        vertical-align: middle;\n",
       "    }\n",
       "\n",
       "    .dataframe tbody tr th {\n",
       "        vertical-align: top;\n",
       "    }\n",
       "\n",
       "    .dataframe thead th {\n",
       "        text-align: right;\n",
       "    }\n",
       "</style>\n",
       "<table border=\"1\" class=\"dataframe\">\n",
       "  <thead>\n",
       "    <tr style=\"text-align: right;\">\n",
       "      <th></th>\n",
       "      <th>user_id</th>\n",
       "      <th>name</th>\n",
       "      <th>age</th>\n",
       "      <th>categories</th>\n",
       "      <th>spendings</th>\n",
       "      <th>total_spent</th>\n",
       "    </tr>\n",
       "  </thead>\n",
       "  <tbody>\n",
       "    <tr>\n",
       "      <th>0</th>\n",
       "      <td>32415</td>\n",
       "      <td>[Mike, Reed]</td>\n",
       "      <td>32</td>\n",
       "      <td>[electronics, sport, books]</td>\n",
       "      <td>[894, 213, 173]</td>\n",
       "      <td>1280</td>\n",
       "    </tr>\n",
       "    <tr>\n",
       "      <th>1</th>\n",
       "      <td>31980</td>\n",
       "      <td>[Kate, Morgan]</td>\n",
       "      <td>24</td>\n",
       "      <td>[clothes, books]</td>\n",
       "      <td>[439, 390]</td>\n",
       "      <td>829</td>\n",
       "    </tr>\n",
       "    <tr>\n",
       "      <th>2</th>\n",
       "      <td>32156</td>\n",
       "      <td>[John, Doe]</td>\n",
       "      <td>37</td>\n",
       "      <td>[electronics, home, food]</td>\n",
       "      <td>[459, 120, 99]</td>\n",
       "      <td>678</td>\n",
       "    </tr>\n",
       "    <tr>\n",
       "      <th>3</th>\n",
       "      <td>32761</td>\n",
       "      <td>[Samantha, Smith]</td>\n",
       "      <td>29</td>\n",
       "      <td>[clothes, electronics, beauty]</td>\n",
       "      <td>[299, 679, 85]</td>\n",
       "      <td>1063</td>\n",
       "    </tr>\n",
       "    <tr>\n",
       "      <th>4</th>\n",
       "      <td>32984</td>\n",
       "      <td>[David, White]</td>\n",
       "      <td>41</td>\n",
       "      <td>[books, home, sport]</td>\n",
       "      <td>[234, 329, 243]</td>\n",
       "      <td>806</td>\n",
       "    </tr>\n",
       "  </tbody>\n",
       "</table>\n",
       "</div>"
      ],
      "text/plain": [
       "  user_id               name  age                      categories  \\\n",
       "0   32415       [Mike, Reed]   32     [electronics, sport, books]   \n",
       "1   31980     [Kate, Morgan]   24                [clothes, books]   \n",
       "2   32156        [John, Doe]   37       [electronics, home, food]   \n",
       "3   32761  [Samantha, Smith]   29  [clothes, electronics, beauty]   \n",
       "4   32984     [David, White]   41            [books, home, sport]   \n",
       "\n",
       "         spendings  total_spent  \n",
       "0  [894, 213, 173]         1280  \n",
       "1       [439, 390]          829  \n",
       "2   [459, 120, 99]          678  \n",
       "3   [299, 679, 85]         1063  \n",
       "4  [234, 329, 243]          806  "
      ]
     },
     "metadata": {},
     "output_type": "display_data"
    },
    {
     "name": "stdout",
     "output_type": "stream",
     "text": [
      "🔹 Estructura del DataFrame:\n",
      "<class 'pandas.core.frame.DataFrame'>\n",
      "RangeIndex: 10 entries, 0 to 9\n",
      "Data columns (total 6 columns):\n",
      " #   Column       Non-Null Count  Dtype \n",
      "---  ------       --------------  ----- \n",
      " 0   user_id      10 non-null     object\n",
      " 1   name         10 non-null     object\n",
      " 2   age          10 non-null     int64 \n",
      " 3   categories   10 non-null     object\n",
      " 4   spendings    10 non-null     object\n",
      " 5   total_spent  10 non-null     int64 \n",
      "dtypes: int64(2), object(4)\n",
      "memory usage: 612.0+ bytes\n",
      "\n",
      "🔹 Estadísticas generales:\n",
      "             age  total_spent\n",
      "count  10.000000    10.000000\n",
      "mean   30.700000   918.900000\n",
      "std     6.000926   178.371304\n",
      "min    22.000000   678.000000\n",
      "25%    26.500000   811.750000\n",
      "50%    30.500000   882.000000\n",
      "75%    34.500000  1035.000000\n",
      "max    41.000000  1280.000000\n"
     ]
    }
   ],
   "source": [
    "# Información general del DataFrame\n",
    "display(df_users.head())\n",
    "\n",
    "print(\"🔹 Estructura del DataFrame:\")\n",
    "df_users.info()\n",
    "\n",
    "print(\"\\n🔹 Estadísticas generales:\")\n",
    "print(df_users.describe())\n"
   ]
  },
  {
   "cell_type": "markdown",
   "id": "acd6f9d5",
   "metadata": {},
   "source": [
    "---------------------------------------------------------------------------------------------\n",
    "### 🧱 Estructura del DataFrame\n",
    "\n",
    "Se puede observar que no hay datos nulos o ausentes y el tipo de datos en cada columna es el correcto. El único detalle a considerar es que `categories` y `spendings` están en listas, lo cual puede limitar ciertos análisis agregados si no se transforman en filas:\n",
    " \n",
    "- `categories`: tipo `object`, porque contiene **listas de strings** (una lista por usuario).\n",
    "- `spendings`: tipo `object`, porque contiene **listas de números** (una lista por usuario). \n",
    "\n",
    "**Más adelante se explotarán para analizarlas por separado.**\n",
    "\n",
    "------------------------------------------------------------------------------------------------\n",
    "### 🧠 Interpretación de las estadísticas generales\n",
    "\n",
    "- El **número total de usuarios** es 10.\n",
    "- La **edad promedio** de los usuarios es de **30.7 años**, con un rango de **22 a 41 años**, lo cual indica que la tienda tiene clientes principalmente adultos jóvenes.\n",
    "- La **desviación estándar de edad** es baja (~6 años), lo que significa que no hay tanta variabilidad en la edad de los clientes.\n",
    "- El **gasto total promedio** por usuario es de **$918.90**, con un mínimo de **$678** y un máximo de **$1280**.\n",
    "- La **desviación estándar del gasto** también es moderada (~$178), lo que sugiere que hay cierta diferencia entre los clientes que gastan poco y los que gastan mucho, pero no hay valores extremadamente alejados.\n",
    "- El **25% de los usuarios gastan menos de $811.75**, mientras que el **25% más alto gasta más de $1035**, lo que puede ser útil para segmentar a los clientes en perfiles de bajo y alto valor.\n",
    "\n",
    "Estas métricas nos ayudan a identificar rangos normales y detectar posibles clientes clave o estrategias de marketing segmentadas."
   ]
  },
  {
   "cell_type": "markdown",
   "id": "4328166b",
   "metadata": {},
   "source": [
    "---------------------------------------------------------------------------------\n",
    "### 🧱 Separación de nombre y apellido\n",
    "\n",
    "En el dataframe también se puede observar que  la columna `name` contiene listas como `['Mike', 'Reed']`, para mejorar la legibilidad de los datos, facilitar la ordenación y adecuar para visualización o exportación a formatos como CSV/Excel. Se separarán en dos columnas nuevas: `first_name` y `last_name`."
   ]
  },
  {
   "cell_type": "code",
   "execution_count": 7,
   "id": "8aeb3dcc",
   "metadata": {},
   "outputs": [
    {
     "data": {
      "text/html": [
       "<div>\n",
       "<style scoped>\n",
       "    .dataframe tbody tr th:only-of-type {\n",
       "        vertical-align: middle;\n",
       "    }\n",
       "\n",
       "    .dataframe tbody tr th {\n",
       "        vertical-align: top;\n",
       "    }\n",
       "\n",
       "    .dataframe thead th {\n",
       "        text-align: right;\n",
       "    }\n",
       "</style>\n",
       "<table border=\"1\" class=\"dataframe\">\n",
       "  <thead>\n",
       "    <tr style=\"text-align: right;\">\n",
       "      <th></th>\n",
       "      <th>user_id</th>\n",
       "      <th>first_name</th>\n",
       "      <th>last_name</th>\n",
       "      <th>age</th>\n",
       "      <th>categories</th>\n",
       "      <th>spendings</th>\n",
       "      <th>total_spent</th>\n",
       "    </tr>\n",
       "  </thead>\n",
       "  <tbody>\n",
       "    <tr>\n",
       "      <th>0</th>\n",
       "      <td>32415</td>\n",
       "      <td>Mike</td>\n",
       "      <td>Reed</td>\n",
       "      <td>32</td>\n",
       "      <td>[electronics, sport, books]</td>\n",
       "      <td>[894, 213, 173]</td>\n",
       "      <td>1280</td>\n",
       "    </tr>\n",
       "    <tr>\n",
       "      <th>1</th>\n",
       "      <td>31980</td>\n",
       "      <td>Kate</td>\n",
       "      <td>Morgan</td>\n",
       "      <td>24</td>\n",
       "      <td>[clothes, books]</td>\n",
       "      <td>[439, 390]</td>\n",
       "      <td>829</td>\n",
       "    </tr>\n",
       "    <tr>\n",
       "      <th>2</th>\n",
       "      <td>32156</td>\n",
       "      <td>John</td>\n",
       "      <td>Doe</td>\n",
       "      <td>37</td>\n",
       "      <td>[electronics, home, food]</td>\n",
       "      <td>[459, 120, 99]</td>\n",
       "      <td>678</td>\n",
       "    </tr>\n",
       "    <tr>\n",
       "      <th>3</th>\n",
       "      <td>32761</td>\n",
       "      <td>Samantha</td>\n",
       "      <td>Smith</td>\n",
       "      <td>29</td>\n",
       "      <td>[clothes, electronics, beauty]</td>\n",
       "      <td>[299, 679, 85]</td>\n",
       "      <td>1063</td>\n",
       "    </tr>\n",
       "    <tr>\n",
       "      <th>4</th>\n",
       "      <td>32984</td>\n",
       "      <td>David</td>\n",
       "      <td>White</td>\n",
       "      <td>41</td>\n",
       "      <td>[books, home, sport]</td>\n",
       "      <td>[234, 329, 243]</td>\n",
       "      <td>806</td>\n",
       "    </tr>\n",
       "  </tbody>\n",
       "</table>\n",
       "</div>"
      ],
      "text/plain": [
       "  user_id first_name last_name  age                      categories  \\\n",
       "0   32415       Mike      Reed   32     [electronics, sport, books]   \n",
       "1   31980       Kate    Morgan   24                [clothes, books]   \n",
       "2   32156       John       Doe   37       [electronics, home, food]   \n",
       "3   32761   Samantha     Smith   29  [clothes, electronics, beauty]   \n",
       "4   32984      David     White   41            [books, home, sport]   \n",
       "\n",
       "         spendings  total_spent  \n",
       "0  [894, 213, 173]         1280  \n",
       "1       [439, 390]          829  \n",
       "2   [459, 120, 99]          678  \n",
       "3   [299, 679, 85]         1063  \n",
       "4  [234, 329, 243]          806  "
      ]
     },
     "execution_count": 7,
     "metadata": {},
     "output_type": "execute_result"
    }
   ],
   "source": [
    "# Separar el nombre en columnas\n",
    "df_users['first_name'] = df_users['name'].apply(lambda x: x[0])\n",
    "df_users['last_name'] = df_users['name'].apply(lambda x: x[1] if len(x) > 1 else '')\n",
    "\n",
    "# Eliminar columna original si ya no la necesitas\n",
    "df_users.drop('name', axis=1, inplace=True)\n",
    "\n",
    "# Se reordenan las columnas\n",
    "df_users = df_users[['user_id', 'first_name', 'last_name', 'age', 'categories', 'spendings', 'total_spent']]\n",
    "\n",
    "# Visualizar para confirmar\n",
    "df_users.head()\n"
   ]
  },
  {
   "cell_type": "markdown",
   "id": "18dd110a",
   "metadata": {},
   "source": [
    "### Si queremos conocer los 5 usuarios que más gastaron"
   ]
  },
  {
   "cell_type": "code",
   "execution_count": 8,
   "id": "b3533974",
   "metadata": {},
   "outputs": [
    {
     "name": "stdout",
     "output_type": "stream",
     "text": [
      "🔹 Top 5 usuarios que más gastaron:\n"
     ]
    },
    {
     "data": {
      "text/html": [
       "<div>\n",
       "<style scoped>\n",
       "    .dataframe tbody tr th:only-of-type {\n",
       "        vertical-align: middle;\n",
       "    }\n",
       "\n",
       "    .dataframe tbody tr th {\n",
       "        vertical-align: top;\n",
       "    }\n",
       "\n",
       "    .dataframe thead th {\n",
       "        text-align: right;\n",
       "    }\n",
       "</style>\n",
       "<table border=\"1\" class=\"dataframe\">\n",
       "  <thead>\n",
       "    <tr style=\"text-align: right;\">\n",
       "      <th></th>\n",
       "      <th>user_id</th>\n",
       "      <th>first_name</th>\n",
       "      <th>last_name</th>\n",
       "      <th>age</th>\n",
       "      <th>categories</th>\n",
       "      <th>spendings</th>\n",
       "      <th>total_spent</th>\n",
       "    </tr>\n",
       "  </thead>\n",
       "  <tbody>\n",
       "    <tr>\n",
       "      <th>0</th>\n",
       "      <td>32415</td>\n",
       "      <td>Mike</td>\n",
       "      <td>Reed</td>\n",
       "      <td>32</td>\n",
       "      <td>[electronics, sport, books]</td>\n",
       "      <td>[894, 213, 173]</td>\n",
       "      <td>1280</td>\n",
       "    </tr>\n",
       "    <tr>\n",
       "      <th>9</th>\n",
       "      <td>34278</td>\n",
       "      <td>James</td>\n",
       "      <td>Lee</td>\n",
       "      <td>28</td>\n",
       "      <td>[beauty, clothes, electronics]</td>\n",
       "      <td>[189, 299, 579]</td>\n",
       "      <td>1067</td>\n",
       "    </tr>\n",
       "    <tr>\n",
       "      <th>3</th>\n",
       "      <td>32761</td>\n",
       "      <td>Samantha</td>\n",
       "      <td>Smith</td>\n",
       "      <td>29</td>\n",
       "      <td>[clothes, electronics, beauty]</td>\n",
       "      <td>[299, 679, 85]</td>\n",
       "      <td>1063</td>\n",
       "    </tr>\n",
       "    <tr>\n",
       "      <th>5</th>\n",
       "      <td>33001</td>\n",
       "      <td>Emily</td>\n",
       "      <td>Brown</td>\n",
       "      <td>26</td>\n",
       "      <td>[beauty, home, food]</td>\n",
       "      <td>[213, 659, 79]</td>\n",
       "      <td>951</td>\n",
       "    </tr>\n",
       "    <tr>\n",
       "      <th>7</th>\n",
       "      <td>33912</td>\n",
       "      <td>Jose</td>\n",
       "      <td>Martinez</td>\n",
       "      <td>22</td>\n",
       "      <td>[sport, electronics, home]</td>\n",
       "      <td>[259, 549, 109]</td>\n",
       "      <td>917</td>\n",
       "    </tr>\n",
       "  </tbody>\n",
       "</table>\n",
       "</div>"
      ],
      "text/plain": [
       "  user_id first_name last_name  age                      categories  \\\n",
       "0   32415       Mike      Reed   32     [electronics, sport, books]   \n",
       "9   34278      James       Lee   28  [beauty, clothes, electronics]   \n",
       "3   32761   Samantha     Smith   29  [clothes, electronics, beauty]   \n",
       "5   33001      Emily     Brown   26            [beauty, home, food]   \n",
       "7   33912       Jose  Martinez   22      [sport, electronics, home]   \n",
       "\n",
       "         spendings  total_spent  \n",
       "0  [894, 213, 173]         1280  \n",
       "9  [189, 299, 579]         1067  \n",
       "3   [299, 679, 85]         1063  \n",
       "5   [213, 659, 79]          951  \n",
       "7  [259, 549, 109]          917  "
      ]
     },
     "execution_count": 8,
     "metadata": {},
     "output_type": "execute_result"
    }
   ],
   "source": [
    "print(\"🔹 Top 5 usuarios que más gastaron:\")\n",
    "df_users.sort_values(by='total_spent', ascending=False).head()\n"
   ]
  },
  {
   "cell_type": "markdown",
   "id": "b0157d72",
   "metadata": {},
   "source": [
    "---------------------------------------------------\n",
    "### Expansión de categorías y gastos por fila"
   ]
  },
  {
   "cell_type": "code",
   "execution_count": 9,
   "id": "839a54d6",
   "metadata": {},
   "outputs": [],
   "source": [
    "rows = []\n",
    "\n",
    "for row in df_users.itertuples(index=False):\n",
    "    for cat, amount in zip(row.categories, row.spendings):\n",
    "        rows.append({\n",
    "            'user_id': row.user_id,\n",
    "            'first_name': row.first_name,\n",
    "            'last_name': row.last_name,\n",
    "            'age': row.age,\n",
    "            'category': cat,\n",
    "            'spending': amount\n",
    "        })"
   ]
  },
  {
   "cell_type": "code",
   "execution_count": 10,
   "id": "e0cd2bbc",
   "metadata": {},
   "outputs": [
    {
     "data": {
      "text/html": [
       "<div>\n",
       "<style scoped>\n",
       "    .dataframe tbody tr th:only-of-type {\n",
       "        vertical-align: middle;\n",
       "    }\n",
       "\n",
       "    .dataframe tbody tr th {\n",
       "        vertical-align: top;\n",
       "    }\n",
       "\n",
       "    .dataframe thead th {\n",
       "        text-align: right;\n",
       "    }\n",
       "</style>\n",
       "<table border=\"1\" class=\"dataframe\">\n",
       "  <thead>\n",
       "    <tr style=\"text-align: right;\">\n",
       "      <th></th>\n",
       "      <th>user_id</th>\n",
       "      <th>first_name</th>\n",
       "      <th>last_name</th>\n",
       "      <th>age</th>\n",
       "      <th>category</th>\n",
       "      <th>spending</th>\n",
       "    </tr>\n",
       "  </thead>\n",
       "  <tbody>\n",
       "    <tr>\n",
       "      <th>0</th>\n",
       "      <td>32415</td>\n",
       "      <td>Mike</td>\n",
       "      <td>Reed</td>\n",
       "      <td>32</td>\n",
       "      <td>electronics</td>\n",
       "      <td>894</td>\n",
       "    </tr>\n",
       "    <tr>\n",
       "      <th>1</th>\n",
       "      <td>32415</td>\n",
       "      <td>Mike</td>\n",
       "      <td>Reed</td>\n",
       "      <td>32</td>\n",
       "      <td>sport</td>\n",
       "      <td>213</td>\n",
       "    </tr>\n",
       "    <tr>\n",
       "      <th>2</th>\n",
       "      <td>32415</td>\n",
       "      <td>Mike</td>\n",
       "      <td>Reed</td>\n",
       "      <td>32</td>\n",
       "      <td>books</td>\n",
       "      <td>173</td>\n",
       "    </tr>\n",
       "    <tr>\n",
       "      <th>3</th>\n",
       "      <td>31980</td>\n",
       "      <td>Kate</td>\n",
       "      <td>Morgan</td>\n",
       "      <td>24</td>\n",
       "      <td>clothes</td>\n",
       "      <td>439</td>\n",
       "    </tr>\n",
       "    <tr>\n",
       "      <th>4</th>\n",
       "      <td>31980</td>\n",
       "      <td>Kate</td>\n",
       "      <td>Morgan</td>\n",
       "      <td>24</td>\n",
       "      <td>books</td>\n",
       "      <td>390</td>\n",
       "    </tr>\n",
       "  </tbody>\n",
       "</table>\n",
       "</div>"
      ],
      "text/plain": [
       "  user_id first_name last_name  age     category  spending\n",
       "0   32415       Mike      Reed   32  electronics       894\n",
       "1   32415       Mike      Reed   32        sport       213\n",
       "2   32415       Mike      Reed   32        books       173\n",
       "3   31980       Kate    Morgan   24      clothes       439\n",
       "4   31980       Kate    Morgan   24        books       390"
      ]
     },
     "execution_count": 10,
     "metadata": {},
     "output_type": "execute_result"
    }
   ],
   "source": [
    "# Crear DataFrame expandido\n",
    "\n",
    "df_expanded = pd.DataFrame(rows)\n",
    "\n",
    "# Visualizar para confirmar\n",
    "df_expanded.head()\n"
   ]
  },
  {
   "cell_type": "markdown",
   "id": "26a3e915",
   "metadata": {},
   "source": [
    "## Análisis por categoría\n",
    "\n",
    "En esta sección se hará un análisis por categoria para conocer que categorias generan mayores ingresos, cuales necesitan mayor impulso y qué grupo de edad compra qué cosas (edad promedio por categoria). "
   ]
  },
  {
   "cell_type": "code",
   "execution_count": 11,
   "id": "52cfe585",
   "metadata": {},
   "outputs": [
    {
     "name": "stdout",
     "output_type": "stream",
     "text": [
      "\n",
      "🔹 Total gastado por categoría:\n",
      "category\n",
      "electronics    3160\n",
      "clothes        1865\n",
      "home           1546\n",
      "books           986\n",
      "sport           715\n",
      "beauty          550\n",
      "food            367\n",
      "Name: spending, dtype: int64\n"
     ]
    }
   ],
   "source": [
    "# Total gastado por categoría\n",
    "print(\"\\n🔹 Total gastado por categoría:\")\n",
    "print(df_expanded.groupby('category')['spending'].sum().sort_values(ascending=False))"
   ]
  },
  {
   "cell_type": "code",
   "execution_count": 12,
   "id": "f42f6b95",
   "metadata": {},
   "outputs": [
    {
     "data": {
      "image/png": "[encoded data removed]",
      "text/plain": [
       "<Figure size 1000x600 with 1 Axes>"
      ]
     },
     "metadata": {},
     "output_type": "display_data"
    }
   ],
   "source": [
    "# Gráfica de barras: total gastado por categoría\n",
    "import matplotlib.pyplot as plt\n",
    "plt.figure(figsize=(10, 6))\n",
    "df_expanded.groupby('category')['spending'].sum().sort_values(ascending=False).plot(kind='bar', color='steelblue')\n",
    "plt.title('Total gastado por categoría')\n",
    "plt.xlabel('Total ($)')\n",
    "plt.ylabel('Categoría')\n",
    "plt.tight_layout()\n",
    "plt.show()"
   ]
  },
  {
   "cell_type": "markdown",
   "id": "e0958299",
   "metadata": {},
   "source": [
    "Se observa claramente un dominio en los ingresos de la categoria 'electronics'. Parece ser la categoria más llamativa de la tienda.\n",
    "- 'clothes' y 'home' también muestran buenos resultados en ventas, aunque a menor escala.\n",
    "- Categorías como 'beauty' y 'food' tienen los menores ingresos, lo cual podría indicar oportunidades para promociones o campañas específicas.\n",
    "- Este análisis permite priorizar esfuerzos de marketing en productos que ya tienen alta demanda, y reactivar el interés en aquellos que no se venden tanto."
   ]
  },
  {
   "cell_type": "code",
   "execution_count": 13,
   "id": "20a2f6c0",
   "metadata": {},
   "outputs": [
    {
     "name": "stdout",
     "output_type": "stream",
     "text": [
      "\n",
      "🔹 Edad promedio por categoría:\n",
      "category\n",
      "beauty         29.0\n",
      "electronics    29.6\n",
      "clothes        29.8\n",
      "sport          31.7\n",
      "food           32.0\n",
      "home           32.2\n",
      "books          33.0\n",
      "Name: age, dtype: float64\n"
     ]
    }
   ],
   "source": [
    "# Edad promedio por categoría\n",
    "print(\"\\n🔹 Edad promedio por categoría:\")\n",
    "print(df_expanded.groupby('category')['age'].mean().round(1).sort_values())"
   ]
  },
  {
   "cell_type": "code",
   "execution_count": 14,
   "id": "f9a98fb5",
   "metadata": {},
   "outputs": [
    {
     "data": {
      "image/png": "[encoded data removed]",
      "text/plain": [
       "<Figure size 1000x600 with 1 Axes>"
      ]
     },
     "metadata": {},
     "output_type": "display_data"
    }
   ],
   "source": [
    "# Gráfica de barras: edad promedio por categoría\n",
    "plt.figure(figsize=(10, 6))\n",
    "df_expanded.groupby('category')['age'].mean().round(1).sort_values(ascending=False).plot(kind='bar', color='darkorange')\n",
    "plt.title('Edad promedio por categoría')\n",
    "plt.xlabel('Edad promedio (años)')\n",
    "plt.ylabel('Categoría')\n",
    "plt.tight_layout()\n",
    "plt.show()"
   ]
  },
  {
   "cell_type": "markdown",
   "id": "5d45da5f",
   "metadata": {},
   "source": [
    "Las categorías más populares entre clientes jóvenes son 'beauty', 'electronics' y 'clothes', con edades promedio por debajo de 30 años.\n",
    "\n",
    "Las categorías con clientes de mayor edad promedio son 'books', 'home' y 'food', superando los 32 años en promedio.\n",
    "\n",
    "**Esto sugiere que las campañas de marketing para productos como libros o artículos del hogar pueden enfocarse en un público más adulto, mientras que productos de belleza o moda pueden orientarse a segmentos jóvenes.**\n",
    "\n",
    "**Estas diferencias permiten segmentar las campañas por edad, aumentando la probabilidad de conversión según intereses específicos por grupo generacional.**"
   ]
  },
  {
   "cell_type": "code",
   "execution_count": 15,
   "id": "7a21d865",
   "metadata": {},
   "outputs": [
    {
     "name": "stdout",
     "output_type": "stream",
     "text": [
      "\n",
      "🔹 Frecuencia de compra por categoría:\n",
      "category\n",
      "electronics    5\n",
      "home           5\n",
      "clothes        5\n",
      "beauty         4\n",
      "books          4\n",
      "sport          3\n",
      "food           3\n",
      "Name: count, dtype: int64\n"
     ]
    }
   ],
   "source": [
    "# Frecuencia de cada categoría\n",
    "print(\"\\n🔹 Frecuencia de compra por categoría:\")\n",
    "print(df_expanded['category'].value_counts())"
   ]
  },
  {
   "cell_type": "markdown",
   "id": "f9e79cc1",
   "metadata": {},
   "source": [
    "- Las categorías 'electronics', 'home' y 'clothes' son las más frecuentemente compradas, con 5 apariciones cada una. Esto refuerza su posición como productos clave para el negocio.\n",
    "\n",
    "- 'beauty' y 'books' tienen una frecuencia media (4), lo que sugiere una oportunidad de crecimiento moderado si se impulsan adecuadamente.\n",
    "\n",
    "- 'sport' y 'food' son las categorías menos frecuentes (3 compras cada una), lo cual puede indicar menor interés o menor exposición. Estas áreas podrían explorarse con promociones específicas para aumentar su rotación.\n",
    "\n",
    "**Conocer la frecuencia ayuda a entender el volumen de interés por categoría, y puede guiar tanto el inventario como las estrategias de marketing.**"
   ]
  },
  {
   "cell_type": "markdown",
   "id": "aebd3de4",
   "metadata": {},
   "source": [
    "## ✅ Conclusión ejecutiva del análisis"
   ]
  },
  {
   "cell_type": "markdown",
   "id": "9d3de55c",
   "metadata": {},
   "source": [
    "Este análisis exploratorio sobre el comportamiento de compra de los clientes de Store 1 permite identificar patrones clave para mejorar las estrategias comerciales:\n",
    "\n",
    "- **Electronics**, **clothes** y **home** son las categorías más rentables y frecuentes. Estas áreas deben continuar siendo impulsadas con campañas destacadas y visibilidad prioritaria.\n",
    "- Las categorías **beauty**, **sport** y **food** presentan menor frecuencia y gasto, lo cual representa una oportunidad para generar interés mediante promociones, bundles o nuevos lanzamientos.\n",
    "- El análisis de **edad promedio por categoría** muestra que productos como beauty, electronics y clothes atraen a un público más joven, mientras que books, home y food son más comunes en usuarios mayores de 32 años.\n",
    "- Este conocimiento permite segmentar las campañas de marketing según **grupo de edad** y **preferencias de compra**, aumentando la relevancia de cada contacto con el cliente.\n",
    "- Como propuesta adicional, se sugiere simular la evolución del gasto por cliente hacia niveles de fidelización para medir la viabilidad de programas de lealtad.\n",
    "\n",
    "En resumen, Store 1 puede utilizar estos datos para tomar decisiones más informadas sobre inventario, segmentación, y campañas comerciales enfocadas en el comportamiento real del cliente.\n"
   ]
  }
 ],
 "metadata": {
  "kernelspec": {
   "display_name": "ciencia_datos",
   "language": "python",
   "name": "python3"
  },
  "language_info": {
   "codemirror_mode": {
    "name": "ipython",
    "version": 3
   },
   "file_extension": ".py",
   "mimetype": "text/x-python",
   "name": "python",
   "nbconvert_exporter": "python",
   "pygments_lexer": "ipython3",
   "version": "3.12.9"
  }
 },
 "nbformat": 4,
 "nbformat_minor": 5
}
